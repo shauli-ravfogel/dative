{
 "cells": [
  {
   "cell_type": "code",
   "execution_count": 68,
   "id": "41ebca32",
   "metadata": {},
   "outputs": [],
   "source": [
    "import numpy as np\n",
    "import pickle\n",
    "from rlace import solve_adv_game\n",
    "from sklearn.utils import shuffle\n",
    "import torch\n",
    "import os\n",
    "from sklearn.linear_model import SGDClassifier\n",
    "from collections import defaultdict\n",
    "from sklearn.decomposition import PCA"
   ]
  },
  {
   "cell_type": "markdown",
   "id": "f1c55c19",
   "metadata": {},
   "source": [
    "## Load data"
   ]
  },
  {
   "cell_type": "code",
   "execution_count": 93,
   "id": "237821b5",
   "metadata": {},
   "outputs": [],
   "source": [
    "def load_data(split=\"train\", lang=\"de\"):\n",
    "    \n",
    "\n",
    "    with open(\"data/{}_words_{}.pkl\".format(split,lang), \"rb\") as f:\n",
    "        train = pickle.load(f)\n",
    "        \n",
    "    train_x,train_y = train[\"embedding\"].to_list(), train[\"is_dative\"].tolist()\n",
    "    train_x = np.array([x.numpy() for x in train_x])\n",
    "    train_y = np.array(train_y)\n",
    "    return train_x, train_y\n",
    "\n",
    "\n",
    "def balance(train_x, train_y):\n",
    "\n",
    "    y_1 = train_y == 1\n",
    "    num_1 = y_1.sum()\n",
    "    num_0 = len(train_x) - num_1\n",
    "    \n",
    "    n = min(num_0, num_1)\n",
    "    train_x_1, train_x_0 = train_x[y_1], train_x[~y_1]\n",
    "    train_x_1 = shuffle(train_x_1, random_state=0)\n",
    "    train_x_0 = shuffle(train_x_0, random_state=0)\n",
    "    \n",
    "    train_x_1 = train_x_1[:n]\n",
    "    train_x_0 = train_x_0[:n]\n",
    "    train_y_1, trian_y_0 = np.ones(n), np.zeros(n)\n",
    "    \n",
    "    train_x_balanced = np.concatenate([train_x_1, train_x_0], axis=0)\n",
    "    train_y_balanced = np.concatenate([train_y_1, trian_y_0], axis=0)\n",
    "    \n",
    "    train_x_balanced, train_y_balanced = shuffle(train_x_balanced, train_y_balanced, random_state=0)\n",
    "    \n",
    "    return train_x_balanced, train_y_balanced\n",
    "\n",
    "\n",
    "def balance_two_languages(x1, y1, x2, y2):\n",
    "    \"\"\"\n",
    "    assuming both languages are already balanced wrt dative, creates a fully balanced dataset.\n",
    "    \"\"\"\n",
    "    n = min(len(x1), len(x2))\n",
    "    x1, y1 = x1[:n], y1[:n]\n",
    "    x2, y2 = x2[:n], y2[:n]\n",
    "    \n",
    "    x = np.concatenate([x1, x2], axis=0)\n",
    "    y = np.concatenate([y1, y2], axis=0)\n",
    "    \n",
    "    x,y = shuffle(x, y, random_state=0)\n",
    "    \n",
    "    return x, y"
   ]
  },
  {
   "cell_type": "code",
   "execution_count": 89,
   "id": "863bd078",
   "metadata": {},
   "outputs": [],
   "source": [
    "train_x_de,train_y_de = load_data(\"train\", \"de\")\n",
    "train_x_de, train_y_de = balance(train_x_de,train_y_de)\n",
    "\n",
    "train_x_pl,train_y_pl = load_data(\"train\", \"pl\")\n",
    "train_x_pl, train_y_pl = balance(train_x_pl,train_y_pl)"
   ]
  },
  {
   "cell_type": "code",
   "execution_count": 90,
   "id": "93f87d63",
   "metadata": {},
   "outputs": [],
   "source": [
    "dev_x_de,dev_y_de = load_data(\"dev\", \"de\")\n",
    "dev_x_de, dev_y_de = balance(dev_x_de,dev_y_de)\n",
    "\n",
    "dev_x_pl,dev_y_pl = load_data(\"dev\", \"pl\")\n",
    "dev_x_pl, dev_y_pl = balance(dev_x_pl,dev_y_pl)"
   ]
  },
  {
   "cell_type": "code",
   "execution_count": 94,
   "id": "5d1fff5a",
   "metadata": {},
   "outputs": [],
   "source": [
    "train_x_both, train_y_both = balance_two_languages(train_x_de,train_y_de,train_x_pl,train_y_pl)\n",
    "dev_x_both, dev_y_both = balance_two_languages(dev_x_de,dev_y_de,dev_x_pl,dev_y_pl)"
   ]
  },
  {
   "cell_type": "markdown",
   "id": "c23159db",
   "metadata": {},
   "source": [
    "### PCA"
   ]
  },
  {
   "cell_type": "code",
   "execution_count": 85,
   "id": "708839fc",
   "metadata": {},
   "outputs": [],
   "source": [
    "# dim=512\n",
    "# pca = PCA(n_components=dim, random_state=0)\n",
    "# pca.fit(train_x_both)\n",
    "# train_x_both = pca.transform(train_x_both)\n",
    "# train_x_de = pca.transform(train_x_de)\n",
    "# train_x_de = pca.transform(train_x_pl)"
   ]
  },
  {
   "cell_type": "markdown",
   "id": "a412c714",
   "metadata": {},
   "source": [
    "## Run the adversarial game"
   ]
  },
  {
   "cell_type": "code",
   "execution_count": 98,
   "id": "a3183ebf",
   "metadata": {},
   "outputs": [
    {
     "name": "stderr",
     "output_type": "stream",
     "text": [
      "48000/50000. Acc post-projection: 49.609%; best so-far: 49.609%; Maj: 50.000%; G\n"
     ]
    }
   ],
   "source": [
    "num_iters = 50000\n",
    "rank=1\n",
    "optimizer_class = torch.optim.SGD\n",
    "optimizer_params_P = {\"lr\": 0.0025, \"weight_decay\": 1e-4}\n",
    "optimizer_params_predictor = {\"lr\": 0.0025,\"weight_decay\": 1e-4}\n",
    "epsilon = 0.005 # stop 0.5% from majority acc\n",
    "batch_size = 256\n",
    "\n",
    "output_de = solve_adv_game(train_x_de,train_y_de, train_x_de,train_y_de, rank=rank, device=\"cpu\", out_iters=num_iters,\n",
    "                       optimizer_class=optimizer_class, optimizer_params_P =optimizer_params_P,\n",
    "                       optimizer_params_predictor=optimizer_params_predictor, epsilon=epsilon,batch_size=batch_size)\n"
   ]
  },
  {
   "cell_type": "code",
   "execution_count": 99,
   "id": "1432dad6",
   "metadata": {},
   "outputs": [
    {
     "name": "stderr",
     "output_type": "stream",
     "text": [
      "13000/50000. Acc post-projection: 50.136%; best so-far: 50.136%; Maj: 50.000%; G\n"
     ]
    }
   ],
   "source": [
    "output_pl = solve_adv_game(train_x_pl,train_y_pl, train_x_pl,train_y_pl, rank=rank, device=\"cpu\", out_iters=num_iters,\n",
    "                       optimizer_class=optimizer_class, optimizer_params_P =optimizer_params_P,\n",
    "                       optimizer_params_predictor=optimizer_params_predictor, epsilon=epsilon,batch_size=batch_size)\n"
   ]
  },
  {
   "cell_type": "code",
   "execution_count": 100,
   "id": "5168a08a",
   "metadata": {},
   "outputs": [
    {
     "name": "stderr",
     "output_type": "stream",
     "text": [
      "20000/50000. Acc post-projection: 49.796%; best so-far: 49.796%; Maj: 50.000%; G\n"
     ]
    }
   ],
   "source": [
    "output_both = solve_adv_game(train_x_both, train_y_both,train_x_both, train_y_both, rank=rank, device=\"cpu\", out_iters=num_iters,\n",
    "                       optimizer_class=optimizer_class, optimizer_params_P =optimizer_params_P,\n",
    "                       optimizer_params_predictor=optimizer_params_predictor, epsilon=epsilon,batch_size=batch_size)\n"
   ]
  },
  {
   "cell_type": "code",
   "execution_count": 101,
   "id": "dc94dcce",
   "metadata": {},
   "outputs": [],
   "source": [
    "dir_name = \"projections\"\n",
    "if not os.path.exists(dir_name):\n",
    "    os.mkdir(dir_name)\n",
    "    \n",
    "\n",
    "np.save(\"{}/projection_de_fully_balance.npy\".format(dir_name), output_de[\"P\"])\n",
    "np.save(\"{}/projection_pl_fully_balanced.npy\".format(dir_name), output_pl[\"P\"])\n",
    "np.save(\"{}/projection_both_fully_balanced.npy\".format(dir_name), output_both[\"P\"])"
   ]
  },
  {
   "cell_type": "code",
   "execution_count": 102,
   "id": "720c41d1",
   "metadata": {},
   "outputs": [],
   "source": [
    "lang2P = {\"pl\": output_pl[\"P\"], \"de\": output_de[\"P\"], \"both\": output_both[\"P\"]}\n",
    "lang2data = {\"pl\": {\"train\": {\"x\": train_x_pl, \"y\": train_y_pl}, \"dev\": {\"x\": dev_x_pl, \"y\": dev_y_pl}}, \n",
    "             \"de\": {\"train\": {\"x\": train_x_de, \"y\": train_y_de}, \"dev\": {\"x\": dev_x_de, \"y\": dev_y_de}},\n",
    "            \"both\": {\"train\": {\"x\": train_x_both, \"y\": train_y_both}, \"dev\": {\"x\": dev_x_both, \"y\": dev_y_both}}}"
   ]
  },
  {
   "cell_type": "markdown",
   "id": "dc428ae7",
   "metadata": {},
   "source": [
    "## Eval"
   ]
  },
  {
   "cell_type": "code",
   "execution_count": 103,
   "id": "08860e7a",
   "metadata": {},
   "outputs": [],
   "source": [
    "clf = SGDClassifier(max_iter=200000, tol=1e-4) # linear hinge-loss classifier\n",
    "train_test_acc = defaultdict(dict) #train_test_acc[lang1][lang2] stores the accuracy in gender prediction when using a projection trained on lang1, on examples belonging to lang2\n",
    "for lang1 in [\"pl\", \"de\", \"both\"]:\n",
    "    for lang2 in [\"pl\", \"de\", \"both\"]:\n",
    "        P = lang2P[lang1]\n",
    "        x_train,y_train = lang2data[lang2][\"train\"][\"x\"], lang2data[lang2][\"train\"][\"y\"]\n",
    "        x_dev,y_dev = lang2data[lang2][\"dev\"][\"x\"], lang2data[lang2][\"dev\"][\"y\"]\n",
    "        clf.fit(x_train@P, y_train)\n",
    "        train_test_acc[lang1][lang2] = clf.score(x_dev@P,y_dev)"
   ]
  },
  {
   "cell_type": "code",
   "execution_count": 104,
   "id": "a7e29e07",
   "metadata": {},
   "outputs": [
    {
     "data": {
      "text/plain": [
       "defaultdict(dict,\n",
       "            {'pl': {'pl': 0.4948717948717949,\n",
       "              'de': 0.9076923076923077,\n",
       "              'both': 0.7474358974358974},\n",
       "             'de': {'pl': 0.9333333333333333,\n",
       "              'de': 0.5564102564102564,\n",
       "              'both': 0.7410256410256411},\n",
       "             'both': {'pl': 0.9025641025641026,\n",
       "              'de': 0.8435897435897436,\n",
       "              'both': 0.4935897435897436}})"
      ]
     },
     "execution_count": 104,
     "metadata": {},
     "output_type": "execute_result"
    }
   ],
   "source": [
    "train_test_acc"
   ]
  },
  {
   "cell_type": "code",
   "execution_count": null,
   "id": "22cafea9",
   "metadata": {},
   "outputs": [],
   "source": []
  }
 ],
 "metadata": {
  "kernelspec": {
   "display_name": "Python 3 (ipykernel)",
   "language": "python",
   "name": "python3"
  },
  "language_info": {
   "codemirror_mode": {
    "name": "ipython",
    "version": 3
   },
   "file_extension": ".py",
   "mimetype": "text/x-python",
   "name": "python",
   "nbconvert_exporter": "python",
   "pygments_lexer": "ipython3",
   "version": "3.8.13"
  }
 },
 "nbformat": 4,
 "nbformat_minor": 5
}
